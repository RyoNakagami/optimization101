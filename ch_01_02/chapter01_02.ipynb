{
 "cells": [
  {
   "cell_type": "markdown",
   "metadata": {},
   "source": [
    "# 最適化の概要\n",
    "## 最適化とは\n",
    "\n",
    "与えられた条件を満たす解のうち、ある関数（目的関数）の値を最小化（最大化）するものを求めること。\n",
    "\n",
    "|用語||\n",
    "|---|---|\n",
    "|制約条件|最適化で探索する解が満たすべき条件のこと|\n",
    "|目的関数|評価尺度|\n",
    "|決定変数、コントロール変数|目的関数の最大化を達成する際に意思決定者が動かすことのできる変数|\n",
    "|実行可能解|最適化問題の制約を満たす解|\n",
    "|実行可能領域|実行可能解の集合|\n",
    "|最適解|実行可能解のうち目的関数の値が最小（最大）のもの|\n",
    "|最適値|最適解における目的関数の値|"
   ]
  },
  {
   "cell_type": "markdown",
   "metadata": {},
   "source": [
    "## 線形計画問題\n",
    "目的関数が一次関数であり、制約がいくつかの１次方程式や１次不等式だけからなる最適化問題を線形計画問題と呼ぶ。この問題の最適解を求める方法論を線形計画法（Linear Programming, LP）と呼ぶ。"
   ]
  },
  {
   "cell_type": "code",
   "execution_count": 1,
   "metadata": {},
   "outputs": [
    {
     "name": "stdout",
     "output_type": "stream",
     "text": [
      "1.0.28\n"
     ]
    }
   ],
   "source": [
    "import cvxpy as cp\n",
    "print(cp.__version__)"
   ]
  },
  {
   "cell_type": "code",
   "execution_count": 2,
   "metadata": {},
   "outputs": [],
   "source": [
    "import matplotlib.pyplot as plt\n",
    "from mpl_toolkits.mplot3d import Axes3D"
   ]
  },
  {
   "cell_type": "code",
   "execution_count": 3,
   "metadata": {},
   "outputs": [],
   "source": [
    "## control変数を定義\n",
    "x1, x2 = cp.Variable(), cp.Variable()"
   ]
  },
  {
   "cell_type": "code",
   "execution_count": 4,
   "metadata": {},
   "outputs": [],
   "source": [
    "## 目的関数を定義\n",
    "obj = cp.Maximize(20*x1 + 60*x2)\n",
    "cons = [5*x1 + 4*x2 <= 80,\n",
    "       2*x1 + 4*x2 <= 40,\n",
    "       2*x1 + 8*x2 <=64,\n",
    "       x1 >= 0,\n",
    "       x2 >= 0]"
   ]
  },
  {
   "cell_type": "code",
   "execution_count": 5,
   "metadata": {},
   "outputs": [],
   "source": [
    "p = cp.Problem(obj, cons)"
   ]
  },
  {
   "cell_type": "code",
   "execution_count": 6,
   "metadata": {},
   "outputs": [
    {
     "name": "stdout",
     "output_type": "stream",
     "text": [
      "\n",
      "ECOS 2.0.7 - (C) embotech GmbH, Zurich Switzerland, 2012-15. Web: www.embotech.com/ECOS\n",
      "\n",
      "It     pcost       dcost      gap   pres   dres    k/t    mu     step   sigma     IR    |   BT\n",
      " 0  -4.814e+02  -1.107e+03  +3e+02  2e-04  3e-01  1e+00  5e+01    ---    ---    1  1  - |  -  - \n",
      " 1  -5.152e+02  -5.723e+02  +3e+01  2e-05  3e-02  3e-01  5e+00  0.9056  4e-03   0  0  0 |  0  0\n",
      " 2  -5.199e+02  -5.250e+02  +3e+00  2e-06  3e-03  3e-02  4e-01  0.9101  2e-03   1  0  0 |  0  0\n",
      " 3  -5.200e+02  -5.201e+02  +3e-02  2e-08  3e-05  4e-04  5e-03  0.9890  1e-04   1  0  0 |  0  0\n",
      " 4  -5.200e+02  -5.200e+02  +3e-04  2e-10  4e-07  4e-06  5e-05  0.9890  1e-04   1  0  0 |  0  0\n",
      " 5  -5.200e+02  -5.200e+02  +3e-06  2e-12  4e-09  5e-08  6e-07  0.9890  1e-04   1  0  0 |  0  0\n",
      "\n",
      "OPTIMAL (within feastol=4.2e-09, reltol=6.7e-09, abstol=3.5e-06).\n",
      "Runtime: 0.000503 seconds.\n",
      "\n"
     ]
    },
    {
     "data": {
      "text/plain": [
       "519.9999998709314"
      ]
     },
     "execution_count": 6,
     "metadata": {},
     "output_type": "execute_result"
    }
   ],
   "source": [
    "p.solve(verbose = True)"
   ]
  },
  {
   "cell_type": "code",
   "execution_count": 7,
   "metadata": {},
   "outputs": [
    {
     "name": "stdout",
     "output_type": "stream",
     "text": [
      "7.999999991113182 6.00000000081113\n"
     ]
    }
   ],
   "source": [
    "print(x1.value, x2.value)"
   ]
  },
  {
   "cell_type": "markdown",
   "metadata": {},
   "source": [
    "### NumPyを用いた場合"
   ]
  },
  {
   "cell_type": "code",
   "execution_count": 8,
   "metadata": {},
   "outputs": [
    {
     "name": "stdout",
     "output_type": "stream",
     "text": [
      "1.17.3\n"
     ]
    }
   ],
   "source": [
    "import numpy as np\n",
    "print(np.__version__)"
   ]
  },
  {
   "cell_type": "code",
   "execution_count": 9,
   "metadata": {},
   "outputs": [],
   "source": [
    "x = cp.Variable(2)\n",
    "c = np.array([-20, -60])\n",
    "G = np.array([\n",
    "    [5.0, 4.0],\n",
    "    [2.0, 4.0],\n",
    "    [2.0, 8.0],\n",
    "    [-1.0, 0],\n",
    "    [0, -1.0]])\n",
    "h = [80.0, 40.0, 64.0, 0.0, 0.0]\n",
    "obj = cp.Minimize(c * x)\n",
    "cons = [G * x <= h]"
   ]
  },
  {
   "cell_type": "code",
   "execution_count": 10,
   "metadata": {},
   "outputs": [],
   "source": [
    "p = cp.Problem(obj, cons)"
   ]
  },
  {
   "cell_type": "code",
   "execution_count": 11,
   "metadata": {},
   "outputs": [
    {
     "name": "stdout",
     "output_type": "stream",
     "text": [
      "\n",
      "ECOS 2.0.7 - (C) embotech GmbH, Zurich Switzerland, 2012-15. Web: www.embotech.com/ECOS\n",
      "\n",
      "It     pcost       dcost      gap   pres   dres    k/t    mu     step   sigma     IR    |   BT\n",
      " 0  -4.814e+02  -1.107e+03  +3e+02  2e-04  3e-01  1e+00  5e+01    ---    ---    1  1  - |  -  - \n",
      " 1  -5.152e+02  -5.723e+02  +3e+01  2e-05  3e-02  3e-01  5e+00  0.9056  4e-03   0  0  0 |  0  0\n",
      " 2  -5.199e+02  -5.250e+02  +3e+00  2e-06  3e-03  3e-02  4e-01  0.9101  2e-03   1  0  0 |  0  0\n",
      " 3  -5.200e+02  -5.201e+02  +3e-02  2e-08  3e-05  4e-04  5e-03  0.9890  1e-04   1  0  0 |  0  0\n",
      " 4  -5.200e+02  -5.200e+02  +3e-04  2e-10  4e-07  4e-06  5e-05  0.9890  1e-04   1  0  0 |  0  0\n",
      " 5  -5.200e+02  -5.200e+02  +3e-06  2e-12  4e-09  5e-08  6e-07  0.9890  1e-04   1  0  0 |  0  0\n",
      "\n",
      "OPTIMAL (within feastol=4.2e-09, reltol=6.7e-09, abstol=3.5e-06).\n",
      "Runtime: 0.000544 seconds.\n",
      "\n"
     ]
    },
    {
     "data": {
      "text/plain": [
       "-519.9999998709314"
      ]
     },
     "execution_count": 11,
     "metadata": {},
     "output_type": "execute_result"
    }
   ],
   "source": [
    "p.solve(verbose = True)"
   ]
  },
  {
   "cell_type": "code",
   "execution_count": 12,
   "metadata": {},
   "outputs": [
    {
     "name": "stdout",
     "output_type": "stream",
     "text": [
      "[7.99999999 6.        ]\n"
     ]
    }
   ],
   "source": [
    "print(x.value)"
   ]
  },
  {
   "cell_type": "markdown",
   "metadata": {},
   "source": [
    "Plotしてみる"
   ]
  },
  {
   "cell_type": "code",
   "execution_count": 13,
   "metadata": {},
   "outputs": [
    {
     "data": {
      "image/png": "[encoded data removed]",
      "text/plain": [
       "<Figure size 432x288 with 1 Axes>"
      ]
     },
     "metadata": {
      "needs_background": "light"
     },
     "output_type": "display_data"
    }
   ],
   "source": [
    "x = np.linspace(0, 20, 2000)\n",
    "y1 = (80 - x*5.0)/4.0\n",
    "y2 = (40 - x*2.0)/4.0\n",
    "y3 = (64 - x*2.0)/8.0\n",
    "\n",
    "plt.plot(x, y1, label=r' (80 - x*5.0)/4.0')\n",
    "plt.plot(x, y2, label=r'(40 - x*2.0)/4.0')\n",
    "plt.plot(x, y3, label=r'(64 - x*2.0)/8.0')\n",
    "plt.xlim((0, 16))\n",
    "plt.ylim((0, 10))\n",
    "plt.xlabel(r'$x$')\n",
    "plt.ylabel(r'$y$')\n",
    "\n",
    "# Fill feasible region\n",
    "y5 = np.minimum(np.minimum(y1, y2), y3)\n",
    "plt.fill_between(x, 0, y5, where=y5>0, color='grey', alpha=0.5)\n",
    "plt.legend(bbox_to_anchor=(1.05, 1), loc=2, borderaxespad=0.);"
   ]
  },
  {
   "cell_type": "code",
   "execution_count": 14,
   "metadata": {},
   "outputs": [],
   "source": [
    "### \n",
    "x_range = np.linspace(0, 16, 1000)\n",
    "y_range = np.linspace(0, 8, 1000)\n",
    "aa, bb = np.meshgrid(x_range,y_range)\n",
    "\n",
    "def func(a, b):\n",
    "    cons1 = a * 5.0 + b * 4.0 <= 80\n",
    "    cons2 = a * 2.0 + b * 4.0 <= 40\n",
    "    cons3 = a * 2.0 + b * 8.0 <= 64\n",
    "    \n",
    "    if cons1 and cons2 and cons3:\n",
    "        return 20 * a + 60 * b\n",
    "    else:\n",
    "        return None\n",
    "\n",
    "func_vec = np.vectorize(func)\n",
    "ret = func_vec(aa, bb)"
   ]
  },
  {
   "cell_type": "code",
   "execution_count": 15,
   "metadata": {},
   "outputs": [
    {
     "data": {
      "image/png": "[encoded data removed]",
      "text/plain": [
       "<Figure size 432x288 with 2 Axes>"
      ]
     },
     "metadata": {
      "needs_background": "light"
     },
     "output_type": "display_data"
    }
   ],
   "source": [
    "plt.pcolormesh(aa, bb, ret)\n",
    "plt.colorbar();"
   ]
  },
  {
   "cell_type": "markdown",
   "metadata": {},
   "source": [
    "## 基底追跡：疎な解"
   ]
  },
  {
   "cell_type": "markdown",
   "metadata": {},
   "source": [
    "データとして行列$A\\in \\mathbf R^{m\\times n} (m < n)$とベクトル$\\mathbf b \\in \\mathbf R^m$が与えられた時、連立１時方程式\n",
    "\n",
    "$$\n",
    "Ax = b\n",
    "$$\n",
    "\n",
    "を満たす解xは無数に存在する。そのうち、0である成分の数が多い解（疎な解）を求める問題は、信号処理や画像処理、統計学におけるモデル選択など、多くの応用を持つ。\n",
    "\n",
    "$$\n",
    "\\begin{aligned}\n",
    "&\\min ||x||_1\\\\\n",
    "&\\text{subject to } Ax = b\n",
    "\\end{aligned}\n",
    "$$\n",
    "\n",
    "この目的関数は一次式ではないので、線形計画問題ではない。これを線形計画問題に表現すると\n",
    "\n",
    "$$\n",
    "\\begin{aligned}\n",
    "\\min &z_1 + z_2\\\\\n",
    "\\text{subject to }& Ax = b\\\\\n",
    "& z_1 \\geq |x_1|\\\\\n",
    "& z_2 \\geq |x_2|\n",
    "\\end{aligned}\n",
    "$$\n",
    "\n",
    "制約式の絶対値を直すと\n",
    "\n",
    "$$\n",
    "z_1 \\geq x_1, z_1 \\geq -x_1\n",
    "$$\n",
    "と等価なので、\n",
    "\n",
    "$$\n",
    "\\begin{aligned}\n",
    "\\min &1^T \\mathbf z\\\\\n",
    "\\text{subject to }& Ax = b\\\\\n",
    "& \\mathbf z \\geq x\\\\\n",
    "& \\mathbf z \\geq -x\n",
    "\\end{aligned}\n",
    "$$\n"
   ]
  },
  {
   "cell_type": "code",
   "execution_count": 16,
   "metadata": {},
   "outputs": [
    {
     "name": "stdout",
     "output_type": "stream",
     "text": [
      "\n",
      "ECOS 2.0.7 - (C) embotech GmbH, Zurich Switzerland, 2012-15. Web: www.embotech.com/ECOS\n",
      "\n",
      "It     pcost       dcost      gap   pres   dres    k/t    mu     step   sigma     IR    |   BT\n",
      " 0  +0.000e+00  -0.000e+00  +1e+01  8e-01  1e-02  1e+00  7e-01    ---    ---    1  1  - |  -  - \n",
      " 1  +4.891e-01  +4.879e-01  +2e+00  3e-01  2e-03  2e-01  1e-01  0.8523  7e-03   0  0  0 |  0  0\n",
      " 2  +1.332e+00  +1.330e+00  +5e-01  6e-02  3e-04  3e-02  2e-02  0.7998  4e-02   0  0  0 |  0  0\n",
      " 3  +1.397e+00  +1.396e+00  +8e-02  9e-03  5e-05  5e-03  4e-03  0.8569  2e-02   0  0  0 |  0  0\n",
      " 4  +1.411e+00  +1.411e+00  +1e-02  2e-03  9e-06  9e-04  7e-04  0.8250  5e-03   1  0  0 |  0  0\n",
      " 5  +1.416e+00  +1.416e+00  +1e-03  1e-04  8e-07  7e-05  6e-05  0.9474  4e-02   1  0  0 |  0  0\n",
      " 6  +1.417e+00  +1.417e+00  +1e-05  2e-06  9e-09  8e-07  7e-07  0.9890  1e-04   1  0  0 |  0  0\n",
      " 7  +1.417e+00  +1.417e+00  +2e-07  2e-08  1e-10  9e-09  8e-09  0.9890  1e-04   1  0  0 |  0  0\n",
      " 8  +1.417e+00  +1.417e+00  +2e-09  2e-10  1e-12  1e-10  9e-11  0.9890  1e-04   1  0  0 |  0  0\n",
      "\n",
      "OPTIMAL (within feastol=2.0e-10, reltol=1.2e-09, abstol=1.7e-09).\n",
      "Runtime: 0.000441 seconds.\n",
      "\n",
      "[ 3.55644962e-01 -5.24213369e-11 -6.32458908e-10 -3.80241197e-11\n",
      " -4.22032404e-01  9.15861256e-11  1.70900170e-02  9.61667608e-02\n",
      " -1.48502614e-13 -5.25700283e-01]\n"
     ]
    }
   ],
   "source": [
    "import cvxpy as cp\n",
    "import numpy as np\n",
    "\n",
    "m, n = 5, 10\n",
    "np.random.seed(1)\n",
    "A, b = np.random.randn(m,n), np.random.randn(m)\n",
    "x, z = cp.Variable(n), cp.Variable(n)\n",
    "obj = cp.Minimize(np.ones([1, n]) * z)\n",
    "cons = [A * x == b,\n",
    "       z >= x,\n",
    "       z >= -x]\n",
    "P = cp.Problem(obj, cons)\n",
    "P.solve(verbose = True)\n",
    "print(x.value)"
   ]
  },
  {
   "cell_type": "code",
   "execution_count": null,
   "metadata": {},
   "outputs": [],
   "source": []
  }
 ],
 "metadata": {
  "kernelspec": {
   "display_name": "Python 3",
   "language": "python",
   "name": "python3"
  },
  "language_info": {
   "codemirror_mode": {
    "name": "ipython",
    "version": 3
   },
   "file_extension": ".py",
   "mimetype": "text/x-python",
   "name": "python",
   "nbconvert_exporter": "python",
   "pygments_lexer": "ipython3",
   "version": "3.7.4"
  }
 },
 "nbformat": 4,
 "nbformat_minor": 4
}
